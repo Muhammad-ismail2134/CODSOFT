{
  "nbformat": 4,
  "nbformat_minor": 0,
  "metadata": {
    "colab": {
      "provenance": [],
      "toc_visible": true,
      "mount_file_id": "1Yj1s_R_uTjXBBTes5K6wPPxe6peDnp9I",
      "authorship_tag": "ABX9TyNh5h9UWKQrch+t3PP7SkqB",
      "include_colab_link": true
    },
    "kernelspec": {
      "name": "python3",
      "display_name": "Python 3"
    },
    "language_info": {
      "name": "python"
    }
  },
  "cells": [
    {
      "cell_type": "markdown",
      "metadata": {
        "id": "view-in-github",
        "colab_type": "text"
      },
      "source": [
        "<a href=\"https://colab.research.google.com/github/Muhammad-ismail2134/CODSOFT/blob/main/MoviePredictionWithDeepLearning.ipynb\" target=\"_parent\"><img src=\"https://colab.research.google.com/assets/colab-badge.svg\" alt=\"Open In Colab\"/></a>"
      ]
    },
    {
      "cell_type": "markdown",
      "source": [
        "# Task 01 Movie Genre Classification\n",
        ">Note: This notebook is part of my internship"
      ],
      "metadata": {
        "id": "I2eFhqR3DW_t"
      }
    },
    {
      "cell_type": "markdown",
      "source": [
        "## Importing Libaraies\n"
      ],
      "metadata": {
        "id": "mD_IbTWCDvwC"
      }
    },
    {
      "cell_type": "code",
      "execution_count": null,
      "metadata": {
        "id": "IDrF60O0rN9e"
      },
      "outputs": [],
      "source": [
        "from tensorflow.keras import layers\n",
        "from tensorflow import keras\n",
        "import tensorflow as tf\n",
        "\n",
        "from sklearn.model_selection import train_test_split\n",
        "from ast import literal_eval\n",
        "\n",
        "import matplotlib.pyplot as plt\n",
        "import pandas as pd\n",
        "import numpy as np"
      ]
    },
    {
      "cell_type": "code",
      "source": [
        "!pip install kaggle"
      ],
      "metadata": {
        "colab": {
          "base_uri": "https://localhost:8080/"
        },
        "id": "u96_zwblrYoU",
        "outputId": "d65ab45d-ee1d-42a3-b057-51100d65b611"
      },
      "execution_count": null,
      "outputs": [
        {
          "output_type": "stream",
          "name": "stdout",
          "text": [
            "Requirement already satisfied: kaggle in /usr/local/lib/python3.10/dist-packages (1.5.16)\n",
            "Requirement already satisfied: six>=1.10 in /usr/local/lib/python3.10/dist-packages (from kaggle) (1.16.0)\n",
            "Requirement already satisfied: certifi in /usr/local/lib/python3.10/dist-packages (from kaggle) (2023.7.22)\n",
            "Requirement already satisfied: python-dateutil in /usr/local/lib/python3.10/dist-packages (from kaggle) (2.8.2)\n",
            "Requirement already satisfied: requests in /usr/local/lib/python3.10/dist-packages (from kaggle) (2.31.0)\n",
            "Requirement already satisfied: tqdm in /usr/local/lib/python3.10/dist-packages (from kaggle) (4.66.1)\n",
            "Requirement already satisfied: python-slugify in /usr/local/lib/python3.10/dist-packages (from kaggle) (8.0.1)\n",
            "Requirement already satisfied: urllib3 in /usr/local/lib/python3.10/dist-packages (from kaggle) (2.0.4)\n",
            "Requirement already satisfied: bleach in /usr/local/lib/python3.10/dist-packages (from kaggle) (6.0.0)\n",
            "Requirement already satisfied: webencodings in /usr/local/lib/python3.10/dist-packages (from bleach->kaggle) (0.5.1)\n",
            "Requirement already satisfied: text-unidecode>=1.3 in /usr/local/lib/python3.10/dist-packages (from python-slugify->kaggle) (1.3)\n",
            "Requirement already satisfied: charset-normalizer<4,>=2 in /usr/local/lib/python3.10/dist-packages (from requests->kaggle) (3.2.0)\n",
            "Requirement already satisfied: idna<4,>=2.5 in /usr/local/lib/python3.10/dist-packages (from requests->kaggle) (3.4)\n"
          ]
        }
      ]
    },
    {
      "cell_type": "code",
      "source": [
        "!cp /content/drive/MyDrive/kaggle.json ~/.kaggle/kaggle.json"
      ],
      "metadata": {
        "id": "310GD6rNsIk1"
      },
      "execution_count": null,
      "outputs": []
    },
    {
      "cell_type": "markdown",
      "source": [
        "## Downloading Dataset from Kaggle"
      ],
      "metadata": {
        "id": "lSoAX-a7D3rB"
      }
    },
    {
      "cell_type": "code",
      "source": [
        "!kaggle datasets download -d jrobischon/wikipedia-movie-plots"
      ],
      "metadata": {
        "colab": {
          "base_uri": "https://localhost:8080/"
        },
        "id": "8TyM07j9sNDR",
        "outputId": "bebac685-8bb6-461a-9092-047499e3c707"
      },
      "execution_count": null,
      "outputs": [
        {
          "output_type": "stream",
          "name": "stdout",
          "text": [
            "wikipedia-movie-plots.zip: Skipping, found more recently modified local copy (use --force to force download)\n"
          ]
        }
      ]
    },
    {
      "cell_type": "markdown",
      "source": [
        "## unizipping\n"
      ],
      "metadata": {
        "id": "bzkb8okvD84T"
      }
    },
    {
      "cell_type": "code",
      "source": [
        "import zipfile\n",
        "\n",
        "#Unzipping dataset from kaggle\n",
        "local_zip = './wikipedia-movie-plots.zip'\n",
        "zip_ref = zipfile.ZipFile(local_zip, 'r')\n",
        "zip_ref.extractall('./wikipedia-movie-plots')"
      ],
      "metadata": {
        "id": "THd_4GVmsPJV"
      },
      "execution_count": null,
      "outputs": []
    },
    {
      "cell_type": "code",
      "source": [
        "movies = pd.read_csv('/content/wikipedia-movie-plots/wiki_movie_plots_deduped.csv')"
      ],
      "metadata": {
        "id": "-JtqSmndsSVn"
      },
      "execution_count": null,
      "outputs": []
    },
    {
      "cell_type": "markdown",
      "source": [
        "## Dataset Preview"
      ],
      "metadata": {
        "id": "aOLXRgqEEDqP"
      }
    },
    {
      "cell_type": "code",
      "source": [
        "movies.head()"
      ],
      "metadata": {
        "colab": {
          "base_uri": "https://localhost:8080/",
          "height": 449
        },
        "id": "Li5tpH10sUn4",
        "outputId": "7349a39b-48d2-41fc-f11f-141701fa61b5"
      },
      "execution_count": null,
      "outputs": [
        {
          "output_type": "execute_result",
          "data": {
            "text/plain": [
              "   Release Year                             Title Origin/Ethnicity  \\\n",
              "0          1901            Kansas Saloon Smashers         American   \n",
              "1          1901     Love by the Light of the Moon         American   \n",
              "2          1901           The Martyred Presidents         American   \n",
              "3          1901  Terrible Teddy, the Grizzly King         American   \n",
              "4          1902            Jack and the Beanstalk         American   \n",
              "\n",
              "                             Director Cast    Genre  \\\n",
              "0                             Unknown  NaN  unknown   \n",
              "1                             Unknown  NaN  unknown   \n",
              "2                             Unknown  NaN  unknown   \n",
              "3                             Unknown  NaN  unknown   \n",
              "4  George S. Fleming, Edwin S. Porter  NaN  unknown   \n",
              "\n",
              "                                           Wiki Page  \\\n",
              "0  https://en.wikipedia.org/wiki/Kansas_Saloon_Sm...   \n",
              "1  https://en.wikipedia.org/wiki/Love_by_the_Ligh...   \n",
              "2  https://en.wikipedia.org/wiki/The_Martyred_Pre...   \n",
              "3  https://en.wikipedia.org/wiki/Terrible_Teddy,_...   \n",
              "4  https://en.wikipedia.org/wiki/Jack_and_the_Bea...   \n",
              "\n",
              "                                                Plot  \n",
              "0  A bartender is working at a saloon, serving dr...  \n",
              "1  The moon, painted with a smiling face hangs ov...  \n",
              "2  The film, just over a minute long, is composed...  \n",
              "3  Lasting just 61 seconds and consisting of two ...  \n",
              "4  The earliest known adaptation of the classic f...  "
            ],
            "text/html": [
              "\n",
              "  <div id=\"df-ebef48de-f631-41b6-ba9a-031966e40b74\" class=\"colab-df-container\">\n",
              "    <div>\n",
              "<style scoped>\n",
              "    .dataframe tbody tr th:only-of-type {\n",
              "        vertical-align: middle;\n",
              "    }\n",
              "\n",
              "    .dataframe tbody tr th {\n",
              "        vertical-align: top;\n",
              "    }\n",
              "\n",
              "    .dataframe thead th {\n",
              "        text-align: right;\n",
              "    }\n",
              "</style>\n",
              "<table border=\"1\" class=\"dataframe\">\n",
              "  <thead>\n",
              "    <tr style=\"text-align: right;\">\n",
              "      <th></th>\n",
              "      <th>Release Year</th>\n",
              "      <th>Title</th>\n",
              "      <th>Origin/Ethnicity</th>\n",
              "      <th>Director</th>\n",
              "      <th>Cast</th>\n",
              "      <th>Genre</th>\n",
              "      <th>Wiki Page</th>\n",
              "      <th>Plot</th>\n",
              "    </tr>\n",
              "  </thead>\n",
              "  <tbody>\n",
              "    <tr>\n",
              "      <th>0</th>\n",
              "      <td>1901</td>\n",
              "      <td>Kansas Saloon Smashers</td>\n",
              "      <td>American</td>\n",
              "      <td>Unknown</td>\n",
              "      <td>NaN</td>\n",
              "      <td>unknown</td>\n",
              "      <td>https://en.wikipedia.org/wiki/Kansas_Saloon_Sm...</td>\n",
              "      <td>A bartender is working at a saloon, serving dr...</td>\n",
              "    </tr>\n",
              "    <tr>\n",
              "      <th>1</th>\n",
              "      <td>1901</td>\n",
              "      <td>Love by the Light of the Moon</td>\n",
              "      <td>American</td>\n",
              "      <td>Unknown</td>\n",
              "      <td>NaN</td>\n",
              "      <td>unknown</td>\n",
              "      <td>https://en.wikipedia.org/wiki/Love_by_the_Ligh...</td>\n",
              "      <td>The moon, painted with a smiling face hangs ov...</td>\n",
              "    </tr>\n",
              "    <tr>\n",
              "      <th>2</th>\n",
              "      <td>1901</td>\n",
              "      <td>The Martyred Presidents</td>\n",
              "      <td>American</td>\n",
              "      <td>Unknown</td>\n",
              "      <td>NaN</td>\n",
              "      <td>unknown</td>\n",
              "      <td>https://en.wikipedia.org/wiki/The_Martyred_Pre...</td>\n",
              "      <td>The film, just over a minute long, is composed...</td>\n",
              "    </tr>\n",
              "    <tr>\n",
              "      <th>3</th>\n",
              "      <td>1901</td>\n",
              "      <td>Terrible Teddy, the Grizzly King</td>\n",
              "      <td>American</td>\n",
              "      <td>Unknown</td>\n",
              "      <td>NaN</td>\n",
              "      <td>unknown</td>\n",
              "      <td>https://en.wikipedia.org/wiki/Terrible_Teddy,_...</td>\n",
              "      <td>Lasting just 61 seconds and consisting of two ...</td>\n",
              "    </tr>\n",
              "    <tr>\n",
              "      <th>4</th>\n",
              "      <td>1902</td>\n",
              "      <td>Jack and the Beanstalk</td>\n",
              "      <td>American</td>\n",
              "      <td>George S. Fleming, Edwin S. Porter</td>\n",
              "      <td>NaN</td>\n",
              "      <td>unknown</td>\n",
              "      <td>https://en.wikipedia.org/wiki/Jack_and_the_Bea...</td>\n",
              "      <td>The earliest known adaptation of the classic f...</td>\n",
              "    </tr>\n",
              "  </tbody>\n",
              "</table>\n",
              "</div>\n",
              "    <div class=\"colab-df-buttons\">\n",
              "\n",
              "  <div class=\"colab-df-container\">\n",
              "    <button class=\"colab-df-convert\" onclick=\"convertToInteractive('df-ebef48de-f631-41b6-ba9a-031966e40b74')\"\n",
              "            title=\"Convert this dataframe to an interactive table.\"\n",
              "            style=\"display:none;\">\n",
              "\n",
              "  <svg xmlns=\"http://www.w3.org/2000/svg\" height=\"24px\" viewBox=\"0 -960 960 960\">\n",
              "    <path d=\"M120-120v-720h720v720H120Zm60-500h600v-160H180v160Zm220 220h160v-160H400v160Zm0 220h160v-160H400v160ZM180-400h160v-160H180v160Zm440 0h160v-160H620v160ZM180-180h160v-160H180v160Zm440 0h160v-160H620v160Z\"/>\n",
              "  </svg>\n",
              "    </button>\n",
              "\n",
              "  <style>\n",
              "    .colab-df-container {\n",
              "      display:flex;\n",
              "      gap: 12px;\n",
              "    }\n",
              "\n",
              "    .colab-df-convert {\n",
              "      background-color: #E8F0FE;\n",
              "      border: none;\n",
              "      border-radius: 50%;\n",
              "      cursor: pointer;\n",
              "      display: none;\n",
              "      fill: #1967D2;\n",
              "      height: 32px;\n",
              "      padding: 0 0 0 0;\n",
              "      width: 32px;\n",
              "    }\n",
              "\n",
              "    .colab-df-convert:hover {\n",
              "      background-color: #E2EBFA;\n",
              "      box-shadow: 0px 1px 2px rgba(60, 64, 67, 0.3), 0px 1px 3px 1px rgba(60, 64, 67, 0.15);\n",
              "      fill: #174EA6;\n",
              "    }\n",
              "\n",
              "    .colab-df-buttons div {\n",
              "      margin-bottom: 4px;\n",
              "    }\n",
              "\n",
              "    [theme=dark] .colab-df-convert {\n",
              "      background-color: #3B4455;\n",
              "      fill: #D2E3FC;\n",
              "    }\n",
              "\n",
              "    [theme=dark] .colab-df-convert:hover {\n",
              "      background-color: #434B5C;\n",
              "      box-shadow: 0px 1px 3px 1px rgba(0, 0, 0, 0.15);\n",
              "      filter: drop-shadow(0px 1px 2px rgba(0, 0, 0, 0.3));\n",
              "      fill: #FFFFFF;\n",
              "    }\n",
              "  </style>\n",
              "\n",
              "    <script>\n",
              "      const buttonEl =\n",
              "        document.querySelector('#df-ebef48de-f631-41b6-ba9a-031966e40b74 button.colab-df-convert');\n",
              "      buttonEl.style.display =\n",
              "        google.colab.kernel.accessAllowed ? 'block' : 'none';\n",
              "\n",
              "      async function convertToInteractive(key) {\n",
              "        const element = document.querySelector('#df-ebef48de-f631-41b6-ba9a-031966e40b74');\n",
              "        const dataTable =\n",
              "          await google.colab.kernel.invokeFunction('convertToInteractive',\n",
              "                                                    [key], {});\n",
              "        if (!dataTable) return;\n",
              "\n",
              "        const docLinkHtml = 'Like what you see? Visit the ' +\n",
              "          '<a target=\"_blank\" href=https://colab.research.google.com/notebooks/data_table.ipynb>data table notebook</a>'\n",
              "          + ' to learn more about interactive tables.';\n",
              "        element.innerHTML = '';\n",
              "        dataTable['output_type'] = 'display_data';\n",
              "        await google.colab.output.renderOutput(dataTable, element);\n",
              "        const docLink = document.createElement('div');\n",
              "        docLink.innerHTML = docLinkHtml;\n",
              "        element.appendChild(docLink);\n",
              "      }\n",
              "    </script>\n",
              "  </div>\n",
              "\n",
              "\n",
              "<div id=\"df-94e37ab5-5fe2-49bc-ba97-71fa2c290caa\">\n",
              "  <button class=\"colab-df-quickchart\" onclick=\"quickchart('df-94e37ab5-5fe2-49bc-ba97-71fa2c290caa')\"\n",
              "            title=\"Suggest charts.\"\n",
              "            style=\"display:none;\">\n",
              "\n",
              "<svg xmlns=\"http://www.w3.org/2000/svg\" height=\"24px\"viewBox=\"0 0 24 24\"\n",
              "     width=\"24px\">\n",
              "    <g>\n",
              "        <path d=\"M19 3H5c-1.1 0-2 .9-2 2v14c0 1.1.9 2 2 2h14c1.1 0 2-.9 2-2V5c0-1.1-.9-2-2-2zM9 17H7v-7h2v7zm4 0h-2V7h2v10zm4 0h-2v-4h2v4z\"/>\n",
              "    </g>\n",
              "</svg>\n",
              "  </button>\n",
              "\n",
              "<style>\n",
              "  .colab-df-quickchart {\n",
              "    background-color: #E8F0FE;\n",
              "    border: none;\n",
              "    border-radius: 50%;\n",
              "    cursor: pointer;\n",
              "    display: none;\n",
              "    fill: #1967D2;\n",
              "    height: 32px;\n",
              "    padding: 0 0 0 0;\n",
              "    width: 32px;\n",
              "  }\n",
              "\n",
              "  .colab-df-quickchart:hover {\n",
              "    background-color: #E2EBFA;\n",
              "    box-shadow: 0px 1px 2px rgba(60, 64, 67, 0.3), 0px 1px 3px 1px rgba(60, 64, 67, 0.15);\n",
              "    fill: #174EA6;\n",
              "  }\n",
              "\n",
              "  [theme=dark] .colab-df-quickchart {\n",
              "    background-color: #3B4455;\n",
              "    fill: #D2E3FC;\n",
              "  }\n",
              "\n",
              "  [theme=dark] .colab-df-quickchart:hover {\n",
              "    background-color: #434B5C;\n",
              "    box-shadow: 0px 1px 3px 1px rgba(0, 0, 0, 0.15);\n",
              "    filter: drop-shadow(0px 1px 2px rgba(0, 0, 0, 0.3));\n",
              "    fill: #FFFFFF;\n",
              "  }\n",
              "</style>\n",
              "\n",
              "  <script>\n",
              "    async function quickchart(key) {\n",
              "      const charts = await google.colab.kernel.invokeFunction(\n",
              "          'suggestCharts', [key], {});\n",
              "    }\n",
              "    (() => {\n",
              "      let quickchartButtonEl =\n",
              "        document.querySelector('#df-94e37ab5-5fe2-49bc-ba97-71fa2c290caa button');\n",
              "      quickchartButtonEl.style.display =\n",
              "        google.colab.kernel.accessAllowed ? 'block' : 'none';\n",
              "    })();\n",
              "  </script>\n",
              "</div>\n",
              "    </div>\n",
              "  </div>\n"
            ]
          },
          "metadata": {},
          "execution_count": 7
        }
      ]
    },
    {
      "cell_type": "code",
      "source": [
        "print(movies.shape[0])"
      ],
      "metadata": {
        "colab": {
          "base_uri": "https://localhost:8080/"
        },
        "id": "F4cg4_lJsYCc",
        "outputId": "a3634e73-6ee1-4271-f806-bb1c0e3c731d"
      },
      "execution_count": null,
      "outputs": [
        {
          "output_type": "stream",
          "name": "stdout",
          "text": [
            "34886\n"
          ]
        }
      ]
    },
    {
      "cell_type": "markdown",
      "source": [
        "## Droping Null Rows\n"
      ],
      "metadata": {
        "id": "wHP-A04gEHOB"
      }
    },
    {
      "cell_type": "code",
      "source": [
        "movies = movies[movies['Genre'] != 'unknown']\n",
        "movies.dropna(inplace=True)\n",
        "print(movies.shape[0])"
      ],
      "metadata": {
        "colab": {
          "base_uri": "https://localhost:8080/"
        },
        "id": "S2gb2biQsac_",
        "outputId": "1289f2ed-b1eb-48fe-f4bb-f40c89045712"
      },
      "execution_count": null,
      "outputs": [
        {
          "output_type": "stream",
          "name": "stdout",
          "text": [
            "28064\n"
          ]
        }
      ]
    },
    {
      "cell_type": "code",
      "source": [
        "import re\n",
        "def clean_text(text):\n",
        "    # remove backslash-apostrophe\n",
        "    text = re.sub(\"\\'\", \"\", text)\n",
        "    # remove everything alphabets\n",
        "    text = re.sub(\"[^a-zA-Z]\",\" \",text)\n",
        "    # remove whitespaces\n",
        "    text = ' '.join(text.split())\n",
        "    # convert text to lowercase\n",
        "    text = text.lower()\n",
        "\n",
        "    return text\n"
      ],
      "metadata": {
        "id": "qDT6vIF4sf75"
      },
      "execution_count": null,
      "outputs": []
    },
    {
      "cell_type": "markdown",
      "source": [
        "## Cleaning movie plots"
      ],
      "metadata": {
        "id": "ekNcj5XVERV_"
      }
    },
    {
      "cell_type": "code",
      "source": [
        "movies['clean_plot'] = movies['Plot'].apply(lambda x: clean_text(x))"
      ],
      "metadata": {
        "id": "uMpzDWu1sklF"
      },
      "execution_count": null,
      "outputs": []
    },
    {
      "cell_type": "code",
      "source": [
        "import nltk\n",
        "nltk.download('stopwords')"
      ],
      "metadata": {
        "colab": {
          "base_uri": "https://localhost:8080/"
        },
        "id": "1RCkPeKTsm45",
        "outputId": "f6f99f67-4c49-405e-b6bb-0739ec0bd404"
      },
      "execution_count": null,
      "outputs": [
        {
          "output_type": "stream",
          "name": "stderr",
          "text": [
            "[nltk_data] Downloading package stopwords to /root/nltk_data...\n",
            "[nltk_data]   Package stopwords is already up-to-date!\n"
          ]
        },
        {
          "output_type": "execute_result",
          "data": {
            "text/plain": [
              "True"
            ]
          },
          "metadata": {},
          "execution_count": 12
        }
      ]
    },
    {
      "cell_type": "code",
      "source": [
        "from nltk.corpus import stopwords\n",
        "stop_words = set(stopwords.words('english'))\n",
        "\n",
        "# function to remove stopwords\n",
        "def remove_stopwords(text):\n",
        "    no_stopword_text = [w for w in text.split() if not w in stop_words]\n",
        "    return ' '.join(no_stopword_text)\n",
        "\n",
        "movies['clean_plot'] = movies['clean_plot'].apply(lambda x: remove_stopwords(x))"
      ],
      "metadata": {
        "id": "_6keylsVspCZ"
      },
      "execution_count": null,
      "outputs": []
    },
    {
      "cell_type": "code",
      "source": [
        "movies['Genre'] = movies['Genre'].str.replace('/', ' ')\n",
        "movies['Genre'] = movies['Genre'].str.replace(r'\\bfilm\\b', '',regex=True)\n",
        "movies['Genre'] = movies['Genre'].str.replace(',', '')\n",
        "\n",
        "# Strip leading and trailing whitespace\n",
        "movies['Genre'] = movies['Genre'].str.strip()"
      ],
      "metadata": {
        "id": "kMFqzmbdsr1Y"
      },
      "execution_count": null,
      "outputs": []
    },
    {
      "cell_type": "code",
      "source": [
        "movies['Genre'][500:510]"
      ],
      "metadata": {
        "colab": {
          "base_uri": "https://localhost:8080/"
        },
        "id": "Ueqj44U8svgF",
        "outputId": "d0e1ebf4-58a8-4933-9bb3-0684ac3b4e61"
      },
      "execution_count": null,
      "outputs": [
        {
          "output_type": "execute_result",
          "data": {
            "text/plain": [
              "566               drama\n",
              "567             western\n",
              "568             western\n",
              "569               crime\n",
              "570             fantasy\n",
              "571              horror\n",
              "572           adventure\n",
              "573      romantic drama\n",
              "574    mystery thriller\n",
              "575              comedy\n",
              "Name: Genre, dtype: object"
            ]
          },
          "metadata": {},
          "execution_count": 15
        }
      ]
    },
    {
      "cell_type": "code",
      "source": [
        "movies = movies[movies['Genre'].str.len()>0]\n",
        "print(movies.shape[0])"
      ],
      "metadata": {
        "colab": {
          "base_uri": "https://localhost:8080/"
        },
        "id": "OdMbakE-sx4H",
        "outputId": "af2439dd-bc5a-4b10-cadb-eb7c0aa690bc"
      },
      "execution_count": null,
      "outputs": [
        {
          "output_type": "stream",
          "name": "stdout",
          "text": [
            "28046\n"
          ]
        }
      ]
    },
    {
      "cell_type": "code",
      "source": [
        "def split_genre(genre_str):\n",
        "    return genre_str.split()[:2]\n",
        "\n",
        "# Apply the function to create a new column with lists\n",
        "movies['Genre_list'] = movies['Genre'].apply(split_genre)"
      ],
      "metadata": {
        "id": "Rp93irCJs0-6"
      },
      "execution_count": null,
      "outputs": []
    },
    {
      "cell_type": "code",
      "source": [
        "movies = movies[~movies[\"Title\"].duplicated()]\n",
        "print(f\"There are {len(movies)} rows in the deduplicated dataset.\")\n",
        "\n",
        "# There are some terms with occurrence as low as 1.\n",
        "print(sum(movies[\"Genre_list\"].value_counts() == 1))\n"
      ],
      "metadata": {
        "colab": {
          "base_uri": "https://localhost:8080/"
        },
        "id": "39YO76NouGcT",
        "outputId": "b023b168-cadb-4ff0-fb2e-cedf44863167"
      },
      "execution_count": null,
      "outputs": [
        {
          "output_type": "stream",
          "name": "stdout",
          "text": [
            "There are 26387 rows in the deduplicated dataset.\n",
            "562\n"
          ]
        }
      ]
    },
    {
      "cell_type": "markdown",
      "source": [
        "## Using stratified splits because of class imbalance"
      ],
      "metadata": {
        "id": "REQ_vcfTurWy"
      }
    },
    {
      "cell_type": "code",
      "source": [
        "# Droping singular classes\n",
        "class_counts = movies['Genre_list'].value_counts()\n",
        "\n",
        "# Identify classes with only one entity\n",
        "classes_to_drop = class_counts[class_counts == 1].index\n"
      ],
      "metadata": {
        "id": "uwYCF5K1vt-F"
      },
      "execution_count": null,
      "outputs": []
    },
    {
      "cell_type": "code",
      "source": [
        "print(len(classes_to_drop))\n",
        "print(classes_to_drop[560:562])"
      ],
      "metadata": {
        "colab": {
          "base_uri": "https://localhost:8080/"
        },
        "id": "mTd1zsS4wA14",
        "outputId": "8bbc9575-d6a1-4f0f-ece2-b6a5e2032fa5"
      },
      "execution_count": null,
      "outputs": [
        {
          "output_type": "stream",
          "name": "stdout",
          "text": [
            "562\n",
            "Index([['romance', 'science'], ['comedic', 'drama']], dtype='object')\n"
          ]
        }
      ]
    },
    {
      "cell_type": "code",
      "source": [
        "filtered_movies = movies[~movies['Genre_list'].isin(classes_to_drop)]"
      ],
      "metadata": {
        "id": "PjR5MOHXxL_x"
      },
      "execution_count": null,
      "outputs": []
    },
    {
      "cell_type": "code",
      "source": [
        "filtered_movies.shape[0]"
      ],
      "metadata": {
        "colab": {
          "base_uri": "https://localhost:8080/"
        },
        "id": "JcNlX3YYxWA9",
        "outputId": "fc477dae-a499-4fca-802f-ae7a6423003e"
      },
      "execution_count": null,
      "outputs": [
        {
          "output_type": "execute_result",
          "data": {
            "text/plain": [
              "25825"
            ]
          },
          "metadata": {},
          "execution_count": 22
        }
      ]
    },
    {
      "cell_type": "code",
      "source": [
        "test_split = 0.1\n",
        "\n",
        "# Initial train and test split.\n",
        "train_df, test_df = train_test_split(\n",
        "    filtered_movies,\n",
        "    test_size=test_split,\n",
        "    stratify=filtered_movies[\"Genre_list\"].values,\n",
        ")\n",
        "\n",
        "# Splitting the test set further into validation\n",
        "# and new test sets.\n",
        "val_df = test_df.sample(frac=0.5)\n",
        "test_df.drop(val_df.index, inplace=True)\n",
        "\n",
        "print(f\"Number of rows in training set: {len(train_df)}\")\n",
        "print(f\"Number of rows in validation set: {len(val_df)}\")\n",
        "print(f\"Number of rows in test set: {len(test_df)}\")"
      ],
      "metadata": {
        "colab": {
          "base_uri": "https://localhost:8080/"
        },
        "id": "c7dEnq-IuXKQ",
        "outputId": "a8f82933-5070-4395-fc67-0f741612ff86"
      },
      "execution_count": null,
      "outputs": [
        {
          "output_type": "stream",
          "name": "stdout",
          "text": [
            "Number of rows in training set: 23242\n",
            "Number of rows in validation set: 1292\n",
            "Number of rows in test set: 1291\n"
          ]
        }
      ]
    },
    {
      "cell_type": "markdown",
      "source": [
        "## Multi-label binarization\n"
      ],
      "metadata": {
        "id": "TB7AC1Z2ypqG"
      }
    },
    {
      "cell_type": "code",
      "source": [
        "genres = tf.ragged.constant(train_df[\"Genre_list\"].values)\n",
        "lookup = tf.keras.layers.StringLookup(output_mode=\"multi_hot\")\n",
        "lookup.adapt(genres)\n",
        "vocab = lookup.get_vocabulary()\n",
        "\n",
        "\n",
        "def invert_multi_hot(encoded_labels):\n",
        "    \"\"\"Reverse a single multi-hot encoded label to a tuple of vocab terms.\"\"\"\n",
        "    hot_indices = np.argwhere(encoded_labels == 1.0)[..., 0]\n",
        "    return np.take(vocab, hot_indices)\n",
        "\n",
        "\n",
        "print(\"Vocabulary:\\n\")\n",
        "print(vocab)"
      ],
      "metadata": {
        "colab": {
          "base_uri": "https://localhost:8080/"
        },
        "id": "J3cNMZrJvBf4",
        "outputId": "7a5d8fb0-9849-4183-b956-13ad732cfddb"
      },
      "execution_count": null,
      "outputs": [
        {
          "output_type": "stream",
          "name": "stdout",
          "text": [
            "Vocabulary:\n",
            "\n",
            "['[UNK]', 'drama', 'comedy', 'action', 'romance', 'thriller', 'crime', 'horror', 'western', 'musical', 'adventure', 'romantic', 'war', 'family', 'science', 'fiction', 'mystery', 'fantasy', 'noir', 'sci-fi', 'biography', 'animation', 'animated', 'social', 'historical', 'comedy-drama', 'short', 'suspense', 'spy', 'world', 'sports', 'martial', 'serial', 'biopic', 'superhero', 'arts', 'documentary', 'black', 'political', 'anime', 'biographical', 'mockumentary', 'melodrama', 'psychological', 'satire', 'masala', 'dramedy', 'tokusatsu', 'epic', 'costume', 'mythology', 'disaster', 'adult', 'supernatural', 'slasher', 'kung', 'folklore', 'teen', 'period', 'parody', 'dark', 'slapstick', 'children', 'subject', 'sex', 'science-fiction', 'rom', 'fu', 'feature', 'devotional', 'com', 'action-adventure', 'literary', 'history', 'erotic', 'docudrama', \"children's\", 'bio-pic', 'anthology', '-', 'swashbuckler', 'screwball', 'romantic-comedy', 'detective', 'wuxia', 'exploitation', 'dance', 'sexploitation', 'samurai', 'road', 'gangster', 'biblical', 'action-masala', 'socio-fantasy', 'music', 'ero', 'christian', 'biker', 'based', 'action-comedy', 'sport', 'religious', 'love', 'live-action', 'kaiju', 'zombie', 'yakuza', 'prison', 'operetta', 'neo-noir', 'national', 'espionage', 'dramatic', 'cop', 'coming-of-age', 'comedy-thriller', 'buddy', 'board', 'avant-garde', 'african', 'action-thriller', '&', 'youth', 'true', 'sword', 'shakespearean', 'satirical', 'roman', 'rom-com', 'propaganda', 'porno', 'pink', 'experimental', 'drama-thriller', 'yash', 'warner', 'tv', 'tragedy', 'super', 'stop-motion', 'slice', 'remake', 'raj', 'race', 'post-apocalyptic', 'portmanteau', 'politics', 'police', 'piece', 'p.o.w.', 'of', 'nature', 'mythological', 'murder', 'miniseries', 'medical', 'mecha', 'legal', 'kung-fu', 'jidaigeki', 'in', 'imdb', 'hit', 'historic', 'gun', 'futuristic', 'found', 'footage', 'famil', 'eiga', 'drama[not', 'direct-to-dvd', 'coming', 'comedy-horror', 'charlie', 'chan', 'chambara', 'bros.', 'boxing', 'blaxploitation', 'biodrama', 'australian', 'art', 'adapted', '(shogi']\n"
          ]
        }
      ]
    },
    {
      "cell_type": "code",
      "source": [
        "sample_label = train_df[\"Genre_list\"].iloc[3]\n",
        "print(f\"Original label: {sample_label}\")\n",
        "\n",
        "label_binarized = lookup([sample_label])\n",
        "print(f\"Label-binarized representation: {label_binarized}\")"
      ],
      "metadata": {
        "colab": {
          "base_uri": "https://localhost:8080/"
        },
        "id": "0lPC3TFHyNFB",
        "outputId": "bc5e27f0-3db9-4a7c-cb3a-e06a8ecbb05c"
      },
      "execution_count": null,
      "outputs": [
        {
          "output_type": "stream",
          "name": "stdout",
          "text": [
            "Original label: ['comedy', 'romance']\n",
            "Label-binarized representation: [[0. 0. 1. 0. 1. 0. 0. 0. 0. 0. 0. 0. 0. 0. 0. 0. 0. 0. 0. 0. 0. 0. 0. 0.\n",
            "  0. 0. 0. 0. 0. 0. 0. 0. 0. 0. 0. 0. 0. 0. 0. 0. 0. 0. 0. 0. 0. 0. 0. 0.\n",
            "  0. 0. 0. 0. 0. 0. 0. 0. 0. 0. 0. 0. 0. 0. 0. 0. 0. 0. 0. 0. 0. 0. 0. 0.\n",
            "  0. 0. 0. 0. 0. 0. 0. 0. 0. 0. 0. 0. 0. 0. 0. 0. 0. 0. 0. 0. 0. 0. 0. 0.\n",
            "  0. 0. 0. 0. 0. 0. 0. 0. 0. 0. 0. 0. 0. 0. 0. 0. 0. 0. 0. 0. 0. 0. 0. 0.\n",
            "  0. 0. 0. 0. 0. 0. 0. 0. 0. 0. 0. 0. 0. 0. 0. 0. 0. 0. 0. 0. 0. 0. 0. 0.\n",
            "  0. 0. 0. 0. 0. 0. 0. 0. 0. 0. 0. 0. 0. 0. 0. 0. 0. 0. 0. 0. 0. 0. 0. 0.\n",
            "  0. 0. 0. 0. 0. 0. 0. 0. 0. 0. 0. 0. 0. 0. 0. 0. 0.]]\n"
          ]
        }
      ]
    },
    {
      "cell_type": "markdown",
      "source": [
        "## Making Datasets\n"
      ],
      "metadata": {
        "id": "So-b2txfzP9m"
      }
    },
    {
      "cell_type": "code",
      "source": [
        "train_df[\"clean_plot\"].apply(lambda x: len(x.split(\" \"))).describe()"
      ],
      "metadata": {
        "colab": {
          "base_uri": "https://localhost:8080/"
        },
        "id": "3BoL0RM9ytiG",
        "outputId": "b9f0f8f3-497b-4614-ce51-d2171b3a8c93"
      },
      "execution_count": null,
      "outputs": [
        {
          "output_type": "execute_result",
          "data": {
            "text/plain": [
              "count    23242.000000\n",
              "mean       214.499656\n",
              "std        171.606260\n",
              "min          2.000000\n",
              "25%         73.000000\n",
              "50%        173.000000\n",
              "75%        333.000000\n",
              "max       2788.000000\n",
              "Name: clean_plot, dtype: float64"
            ]
          },
          "metadata": {},
          "execution_count": 26
        }
      ]
    },
    {
      "cell_type": "code",
      "source": [
        "max_seqlen = 300\n",
        "batch_size = 128\n",
        "padding_token = \"<pad>\"\n",
        "auto = tf.data.AUTOTUNE\n",
        "\n",
        "\n",
        "def make_dataset(dataframe, is_train=True):\n",
        "    labels = tf.ragged.constant(dataframe[\"Genre_list\"].values)\n",
        "    label_binarized = lookup(labels).numpy()\n",
        "    dataset = tf.data.Dataset.from_tensor_slices(\n",
        "        (dataframe[\"clean_plot\"].values, label_binarized)\n",
        "    )\n",
        "    dataset = dataset.shuffle(batch_size * 10) if is_train else dataset\n",
        "    return dataset.batch(batch_size)"
      ],
      "metadata": {
        "id": "E6RTvr7Ty1Si"
      },
      "execution_count": null,
      "outputs": []
    },
    {
      "cell_type": "code",
      "source": [
        "train_dataset = make_dataset(train_df, is_train=True)\n",
        "validation_dataset = make_dataset(val_df, is_train=False)\n",
        "test_dataset = make_dataset(test_df, is_train=False)"
      ],
      "metadata": {
        "id": "0fpMHv5HzgDL"
      },
      "execution_count": null,
      "outputs": []
    },
    {
      "cell_type": "markdown",
      "source": [
        "## Dataset preview"
      ],
      "metadata": {
        "id": "13UjbKyJz8it"
      }
    },
    {
      "cell_type": "code",
      "source": [
        "text_batch, label_batch = next(iter(train_dataset))\n",
        "\n",
        "for i, text in enumerate(text_batch[:5]):\n",
        "    label = label_batch[i].numpy()[None, ...]\n",
        "    print(f\"Abstract: {text}\")\n",
        "    print(f\"Label(s): {invert_multi_hot(label[0])}\")\n",
        "    print(\" \")"
      ],
      "metadata": {
        "colab": {
          "base_uri": "https://localhost:8080/"
        },
        "id": "ghAahg_HzjpE",
        "outputId": "4c4aece0-22ba-453d-aabd-61d81c6a9459"
      },
      "execution_count": null,
      "outputs": [
        {
          "output_type": "stream",
          "name": "stdout",
          "text": [
            "Abstract: b'earl burnstead roland young gambles away eminently correct english manservant marmaduke ruggles charles laughton ruggles new masters crude nouveau riche american millionaires egbert effie floud charlie ruggles mary boland bring ruggles back red gap washington remote western boomtown ruggles mistaken wealthy retired englishman colonel becomes celebrity small town ruggles attempts adjust rough new community learns live life terms achieving fulfilling independence result easily missed bit irony ruggles bemoans fate relegated america land slavery obvious laughtons character sold easily negro antebellum south climax film laughton recitation gettysburg address saloon filled rough western characters held spellbound speech newly imbued spirit democracy self determination ruggles becomes man giving previous employment opening restaurant red gap'\n",
            "Label(s): ['comedy']\n",
            " \n",
            "Abstract: b'film takes place judea fictional village near jerusalem protagonist joel elder son village rabbi lamech lamech wants joel follow footsteps scribe rabbi joel secretly zealot leader believing must done help nation studying scriptures also secretly love tamar daughter carpet merchant jemuel overhears father jemuel arranging marriage tamar one lamechs sons unfortunately joel turns younger brother zadok impetuous zealot joel protect recklessness crisis brought arrival troop soldiers led centurion longinus issues demand special tax collected tax collector traveling zadok zealots organize release prisoners taken soldiers moves longinus plan massacre men village zadok wants attack romans right away joel feels larger resistance needed someone reputed coming messiah jewish people jesus christ joel runs afoul father declaring love tamar father wants wedded zadok revealing zealot leader sword zealots entrusted joel goes find jesus order enlist leadership cause jesus presented directly film reflection water glow light listeners way voice irving pichel director joel meets jesus disciples andrew judas iscariot two different ideas jesus mission judas like zealots thinks jesus military political leader would lead people romans joel confronts jesus sword zealots jesus declines invitation words matthew take sword perish sword joel disappointedly returns village time wedding feast brother zadok beloved tamar comes idea zealots would kidnap jesus force hand support forestalled jesus appearance village gate joels father presented scribe asks jesus greatest commandment law luke jesus replies parable good samaritan jesus exhortation end go thou likewise moves joel abandon plan kidnap jesus zadok told nathan innkeeper longinus vulnerably asleep inn gives going bridal bed order kill longinus nathan calls joel lamech inn longinus repulsed zadoks attack killing effect jesus words joel moves keep killing unconscious longinus standing buffer men village thirsting blood ask joel protecting longinus replies brother longinus sends word soldiers meet inn soldiers arrest joel take prison jerusalem prison joel misses passion jesus tamar allowed visit met longinus tells joel arrested protection village mob tells another wonder witness jesus crucifixion soldier thrust spear side make sure dead longinus throws spear joel tamar return village witness christian faith'\n",
            "Label(s): ['biblical']\n",
            " \n",
            "Abstract: b'brown plays gink schiner third rate fighter training camp georges la verne played georges carpentier contender heavyweight championship although needs concentrating energies upcoming bout georges keeps getting distracted norine lloyd society dame distinct interest interest strictly one sided georges prefers sue old buddy confidante gink woman trouble flirtations sit well toots played winnie lightner erstwhile girlfriend trouble arrives larkin manager current heavyweight champ bob morgan appears camp goal fixing fight sent packing attempts slip mickey finn challenger plan goes awry gink switches drinks meanwhile gink fighting preliminary advance big fight actually wins things dont look bright georges initially gets worst encounter morgan eventually comes top'\n",
            "Label(s): ['comedy' 'musical']\n",
            " \n",
            "Abstract: b'detective nick blades adam copeland new orleans cop trial corruption assistant district attorney theo gold jamie kennedy man charge putting behind bars two unlikely partners opposite sides law stumble onto criminal plot theyll need rely luck patience take dangerous killer without killing first alicia witt jennifer esposito jessica walter co star story proves going gets tough tough continue move moderate pace thus proving slow steady wins race'\n",
            "Label(s): ['cop' 'buddy']\n",
            " \n",
            "Abstract: b'rudolf domestic little black cat little town gifu region chubu center japan never left home care child rie owner ries mother asks visit grandmother take food rudolf follows rie house wish know world outside home rudolf runs afoul fishmonger running away gets inside trailer truck knocked cold broom fishmonger threw rudolf wakes get trailer explore meets gottalot big bobtailed street cat lets rudolf sleep temple next morning gottalot rudolf traverse town rudolf learns gottalot given lot names people encountered asks gottalot pet cat leaves huff soonafter rudolf encounters another cat name buchi habit imitating martial arts moves yelling hyah tells rudolf gottalot known junk tiger also tells rudolf dangerous dog name devil buchi offers let rudolf hang around house explains gottalots fight doberman threatens tear ear returns buchi cuts story short sees beautiful siamese cat goes says goodbye rudolf returning temple gottalot learning buchi told rudolf past gottalot explains next devils house owner used live went united states leaving taught one thing abiity read gottalot rudolf encounter devil gottalot explained since became stray devil looked meeting buchi gottalot rudolf infiltrate school enter classroom rudolf buchi become intrigued books encouraging rudolf learn read gottalot says rudolf also need learn write days went rudolf learned read write understand japanese characters one day one teachers watching tv rudolf sees hometown gifu known cable cars castles despite knowing gifu hundred miles away rudolf decides find way get home going truck heading gifu entered freezer truck gottalot buchi chase truck retrieve rudolf frozen small block ice free gottalot berates rudolf almost freezing death autumn came poster tour bus gifu rudolf gottalot ask buchi becomes enticed scottish fold cat named misha tells bus come november later day gottalot injured devil rudolf tells buchi watch gottalot alerts schoolteacher leads gottalot teacher says gottalot still alive brings injured cat doctor medical attention buchi explains rudolf gottalot got hurt schoolteacher tells cats gottalot stay hell need rest weeks schoolteachers house gottalot apologizes making rudolf worry rudolf thanks watching says goodbye rudolf faces devil fight despite devil home advantage rudolf buchis fake beats devil since devil cant swim asks help rudolf buchi make swear wont bully cat ever devil agrees rudolf returns gottalot says tour bus left wont going back gifu months pass gottalot fully recovered isnt coming outside much spring buchi misha dating devil calmed fight explained gottalots owner moved away gottalot devil good friends broke gottalot became stray devil rudolf give food gottalot token apology later gottalot helps rudolf learn license plates cars signifying come along chinese text one night gottalot explains hell going united states shocking everyone since gottalots owner isnt going return house remodeled next day rudolf says goodbye gottalot buchi misha truck hes goes different prefectures going one truck next despite one trucks getting flat tire manages get home comes inside surprise sees another black kitten happens rudolfs younger brother lived house year rudolf gone knowing family cant one cat rudolf leaves returns tokyo upon returning tokyo rudolf sees buchi misha says decided stay tokyo sees gottalot said going former owner returned made lot money america selling business later night gottalot buchi misha rudolf renamed crow along stray cats eat dinner also learn devil swim cats enjoy gottalot rudolf called crow look night sky looking forward future'\n",
            "Label(s): ['drama' 'adventure']\n",
            " \n"
          ]
        }
      ]
    },
    {
      "cell_type": "markdown",
      "source": [
        "*Simply lovely*"
      ],
      "metadata": {
        "id": "FD4tipqa0GKA"
      }
    },
    {
      "cell_type": "code",
      "source": [
        "vocabulary = set()\n",
        "train_df[\"clean_plot\"].str.lower().str.split().apply(vocabulary.update)\n",
        "vocabulary_size = len(vocabulary)\n",
        "print(vocabulary_size)"
      ],
      "metadata": {
        "colab": {
          "base_uri": "https://localhost:8080/"
        },
        "id": "ML0czci80BMj",
        "outputId": "fabb9c78-a9c7-40b2-bac1-b3558fe3b66a"
      },
      "execution_count": null,
      "outputs": [
        {
          "output_type": "stream",
          "name": "stdout",
          "text": [
            "121176\n"
          ]
        }
      ]
    },
    {
      "cell_type": "markdown",
      "source": [
        "### Creating Vectorization layer"
      ],
      "metadata": {
        "id": "935qA1tc1Vya"
      }
    },
    {
      "cell_type": "code",
      "source": [
        "text_vectorizer = layers.TextVectorization(\n",
        "    max_tokens=vocabulary_size, ngrams=2, output_mode=\"tf_idf\"\n",
        ")\n",
        "\n",
        "with tf.device(\"/CPU:0\"):\n",
        "    text_vectorizer.adapt(train_dataset.map(lambda text, label: text))\n",
        "\n",
        "train_dataset = train_dataset.map(\n",
        "    lambda text, label: (text_vectorizer(text), label), num_parallel_calls=auto\n",
        ").prefetch(auto)\n",
        "validation_dataset = validation_dataset.map(\n",
        "    lambda text, label: (text_vectorizer(text), label), num_parallel_calls=auto\n",
        ").prefetch(auto)\n",
        "test_dataset = test_dataset.map(\n",
        "    lambda text, label: (text_vectorizer(text), label), num_parallel_calls=auto\n",
        ").prefetch(auto)"
      ],
      "metadata": {
        "id": "iRJ7RS-R0_a3"
      },
      "execution_count": null,
      "outputs": []
    },
    {
      "cell_type": "markdown",
      "source": [
        "## Make Text Classification Model"
      ],
      "metadata": {
        "id": "fDPMoGvQ9xdm"
      }
    },
    {
      "cell_type": "code",
      "source": [
        "def make_model():\n",
        "    shallow_mlp_model = keras.Sequential(\n",
        "        [\n",
        "            layers.Dense(512, activation=\"relu\"),\n",
        "            layers.Dense(256, activation=\"relu\"),\n",
        "            layers.Dense(lookup.vocabulary_size(), activation=\"sigmoid\"),\n",
        "        ]\n",
        "    )\n",
        "    return shallow_mlp_model"
      ],
      "metadata": {
        "id": "l8vQzF0F2CPd"
      },
      "execution_count": null,
      "outputs": []
    },
    {
      "cell_type": "code",
      "source": [
        "epochs = 5\n",
        "\n",
        "shallow_mlp_model = make_model()\n",
        "shallow_mlp_model.compile(\n",
        "    loss=\"binary_crossentropy\", optimizer=\"adam\", metrics=[\"binary_accuracy\"]\n",
        ")\n",
        "\n",
        "history = shallow_mlp_model.fit(\n",
        "    train_dataset, validation_data=validation_dataset, epochs=epochs\n",
        ")"
      ],
      "metadata": {
        "colab": {
          "base_uri": "https://localhost:8080/"
        },
        "id": "K77e1ihZ-vrK",
        "outputId": "56c16b07-ce86-48ed-dd36-8d7283163429"
      },
      "execution_count": null,
      "outputs": [
        {
          "output_type": "stream",
          "name": "stdout",
          "text": [
            "Epoch 1/5\n",
            "182/182 [==============================] - 326s 2s/step - loss: 0.0649 - binary_accuracy: 0.9863 - val_loss: 0.0249 - val_binary_accuracy: 0.9938\n",
            "Epoch 2/5\n",
            "182/182 [==============================] - 318s 2s/step - loss: 0.0081 - binary_accuracy: 0.9978 - val_loss: 0.0261 - val_binary_accuracy: 0.9939\n",
            "Epoch 3/5\n",
            "182/182 [==============================] - 336s 2s/step - loss: 0.0028 - binary_accuracy: 0.9993 - val_loss: 0.0318 - val_binary_accuracy: 0.9940\n",
            "Epoch 4/5\n",
            "182/182 [==============================] - 341s 2s/step - loss: 0.0014 - binary_accuracy: 0.9997 - val_loss: 0.0363 - val_binary_accuracy: 0.9941\n",
            "Epoch 5/5\n",
            "182/182 [==============================] - 321s 2s/step - loss: 8.9616e-04 - binary_accuracy: 0.9998 - val_loss: 0.0393 - val_binary_accuracy: 0.9940\n"
          ]
        }
      ]
    },
    {
      "cell_type": "markdown",
      "source": [
        "## Model Evaluation"
      ],
      "metadata": {
        "id": "C-9fNyHyEd7W"
      }
    },
    {
      "cell_type": "code",
      "source": [
        "\n",
        "def plot_result(item):\n",
        "    plt.plot(history.history[item], label=item)\n",
        "    plt.plot(history.history[\"val_\" + item], label=\"val_\" + item)\n",
        "    plt.xlabel(\"Epochs\")\n",
        "    plt.ylabel(item)\n",
        "    plt.title(\"Train and Validation {} Over Epochs\".format(item), fontsize=14)\n",
        "    plt.legend()\n",
        "    plt.grid()\n",
        "    plt.show()\n",
        "\n",
        "\n",
        "plot_result(\"loss\")\n",
        "plot_result(\"binary_accuracy\")"
      ],
      "metadata": {
        "colab": {
          "base_uri": "https://localhost:8080/",
          "height": 929
        },
        "id": "MHtN_I81-6tQ",
        "outputId": "345ca0cc-2c25-4d5b-d851-0ab7013f90ce"
      },
      "execution_count": null,
      "outputs": [
        {
          "output_type": "display_data",
          "data": {
            "text/plain": [
              "<Figure size 640x480 with 1 Axes>"
            ],
            "image/png": "[encoded data removed]"
          },
          "metadata": {}
        },
        {
          "output_type": "display_data",
          "data": {
            "text/plain": [
              "<Figure size 640x480 with 1 Axes>"
            ],
            "image/png": "[encoded data removed]"
          },
          "metadata": {}
        }
      ]
    },
    {
      "cell_type": "code",
      "source": [
        "_, binary_acc = shallow_mlp_model.evaluate(test_dataset)\n",
        "print(f\"Categorical accuracy on the test set: {round(binary_acc * 100, 2)}%.\")"
      ],
      "metadata": {
        "colab": {
          "base_uri": "https://localhost:8080/"
        },
        "id": "ILKAFVicDSHt",
        "outputId": "3979d73e-01a7-4ccc-d7f7-e20155d09151"
      },
      "execution_count": null,
      "outputs": [
        {
          "output_type": "stream",
          "name": "stdout",
          "text": [
            "11/11 [==============================] - 4s 310ms/step - loss: 0.0412 - binary_accuracy: 0.9939\n",
            "Categorical accuracy on the test set: 99.39%.\n"
          ]
        }
      ]
    },
    {
      "cell_type": "code",
      "source": [
        "model_for_inference = keras.Sequential([text_vectorizer, shallow_mlp_model])\n",
        "\n",
        "# Create a small dataset just for demoing inference.\n",
        "inference_dataset = make_dataset(test_df.sample(100), is_train=False)\n",
        "text_batch, label_batch = next(iter(inference_dataset))\n",
        "predicted_probabilities = model_for_inference.predict(text_batch)\n",
        "\n",
        "# Perform inference.\n",
        "for i, text in enumerate(text_batch[:15]):\n",
        "    label = label_batch[i].numpy()[None, ...]\n",
        "    print(f\"Abstract: {text}\")\n",
        "    print(f\"Label(s): {invert_multi_hot(label[0])}\")\n",
        "    predicted_proba = [proba for proba in predicted_probabilities[i]]\n",
        "    top_3_labels = [\n",
        "        x\n",
        "        for _, x in sorted(\n",
        "            zip(predicted_probabilities[i], lookup.get_vocabulary()),\n",
        "            key=lambda pair: pair[0],\n",
        "            reverse=True,\n",
        "        )\n",
        "    ][:3]\n",
        "    print(f\"Predicted Label(s): ({', '.join([label for label in top_3_labels])})\")\n",
        "    print(\" \")"
      ],
      "metadata": {
        "colab": {
          "base_uri": "https://localhost:8080/"
        },
        "id": "4M9-4uzEDVsV",
        "outputId": "c0380dbc-7f14-4c45-fc48-243e7b3d9751"
      },
      "execution_count": null,
      "outputs": [
        {
          "output_type": "stream",
          "name": "stdout",
          "text": [
            "4/4 [==============================] - 1s 95ms/step\n",
            "Abstract: b'john bradshaw robert griffith young naval officer attends lunchtime concert westminster central hall meets reverend peter britton g h mulcaster daughter katherine brook concert three share taxi seeing father train conference katherine agrees tea john enjoy others company later go see film followed dinner stroll along thames embankment john impulsively tells katherine fallen love reminds hardly know one another since brothers death far east devote father couple finally part agreeing meet following day however katherine receives telegram hotel stating brother dennis hanley turned alive arriving home next day returns home early next morning leaving note explanation john unfortunately john forgets name katherines hotel receive note distraught fails turn rendezvous meanwhile back home katherine finds dennis accompanied max borrow manning whiley old admirer still wants marry sustained serious eye injuries saving dennis life katherine result feels must accept dennis immediately rekindles courtship local schoolteacher stella white sheridan john remembers katherines father due return london conference waits station arrives learn hotel katherine departed hurriedly rev britton invites john back village knows local squire looking help cataloguing library john deeply upset discover katherine engaged also resentful towards dennis stella obvious happiness together katherine finally admits john reason max engaged john agrees pursue matters unless max cured max goes medical examination john recalled ship leave fire breaks storage shed children playing max told sight safe arrives back drama progress john injured rescues children katherines reaction leaves max doubt feelings evening tells knows situation release obligation may marry john'\n",
            "Label(s): ['romance']\n",
            "Predicted Label(s): (romance, comedy, drama)\n",
            " \n",
            "Abstract: b'story begins b roll clark voice interview clark talking third person artistic creativity integrity refuted immediately interview clarks art manager j c states hes able get work clark months crude sketches penises j c reports supports artist financially expresses frustration plan feed clark drugs control get produce followed director clark webseries daniel explains difficult film webseries next scene shows j c introducing daniel clark sitting naked bathtub empty bottles beer alcohol clark resistant belittling daniels intrusiveness daniel obviously uncomfortable scene j c insists filming clark current state real art happening clark begins become agitated rambling fit father move another room clark asked explain art shown cant rambling incoherently interrupted j c gives alcohol oxycontin relationship j c clark reinforced consistently throughout movie showing mixture webseries episodes linear timeline mixed behind scenes interviews non linear timeline story introduces fictitious production company exodus films executive producer jazmin fundamentalist christian mentions material isnt family friendly enough quickly led away current lifestyle j c clark follow true dream mime managed j c silent film style episode j c tells clark hes quitting manager focus jazmimes career kicking clark house j c explains camera wasnt sure daniel silent film style music vivaldis four seasons claiming daniel become artsy fartsy claim daniel responds saying choice make silent episode clark wouldnt read lines anymore speak english days see footage clark speaking gibberish clark shown struggling homelessness j c realizes managing mime isnt going profitable gives newspaper classified article implying get job porn industry j c goes search clark finds feet outside door clark shows j c new creation penis sculptures made trash another character tito introduced j c drug dealer calls get fuel keep clark awake night produce art art show scheduled next day tito arrives two large bags cocaine asks j c inject heroin apartment j c complies tito overdoses discovered dead clark j c go pockets find phone plan call dealer disguising tito get free cocaine clark suggests cut titos face hell wear confronts dealer j c explains interview things turned really dark worried daniel clark meets titos dealer young kid wearing titos removed face shoots dealer steals drugs introduces third act movie revealed daniels bad lsd trip causing confusion clark daniel j c cycle time loop daniels mind alters original story time j c character gradually becomes similar hunter thompson clark begins killing puppets imaginary world inter spliced reality clark j c trying help daniel bad trip revealed locked daniel room basement call deprivation tank days find daniel still effects multiple hallucinogens j c clark secretly giving weeks take hospital last scene shows clark extremely pleased interviewer asks influence father causes clark freak destroy four foot penis sculpture working majority story'\n",
            "Label(s): ['mockumentary']\n",
            "Predicted Label(s): (drama, comedy, biography)\n",
            " \n",
            "Abstract: b'paris georges duroy ex soldier working poorly paid clerk encounters former comrade arms sickly journalist charles forestier rachel already rebuffed georges sits cafe table georges rudely dismisses charles tells quickest way better paris using charms women charles suggests seek vacancy newspaper la vie fran aise despite writing experience georges takes charles advice goes rachel meets widow clotilde de marelle dinner party hosted charles wife charles publisher also guest asks georges sample article next day georges great difficulty organizing work asks charles assistance next morning charles sends see wife madeleine trained helps land job also suggests call friend clotilde takes clotilde dancing raucous nightspot singer sings bel ami scoundrel clotilde calls georges bel ami promises live name one night rachel spots makes scene afterward clotilde writes georges letter confesses loves much nothing cannot forgive work charles states trained georges successor health deteriorating georges tells madeleine fallen little love wants remain friend georges tells idea write gossip column filled innuendo rumors madeleine thinks magnificent plan georges gains another admirer suzanne walter year old daughter employer enemy politician laroche mathieu clotilde informs wealthy good jacques rival proposed wants marry tells must either conquer paris conquered states heart tells could happy listened long time charles dies georges proposes madeleine accepts insists marriage equals column great success georges becomes powerful madeleine presides influential salon georges juggles affections madeleine clotilde also madame walter woman impeccable virtuous reputation georges soon distances proves madly indiscreetly smitten gives news husband laroche mathieu fed false information government seize morocco contrary written column schemers benefit financially manipulation walters invite duroys home viewing celebrated costly painting suzanne sought heiress delighted see seeing madeleine laroche mathieu conversing gathering gives georges idea laroche mathieu attracted madeleine asks lead foreign minister gain information ensure deceive georges least tells uses grounds divorce marry suzanne father outraged mother aghast upon consideration however daughters happiness gives consent much clotilde stand according french law person appropriate noble name known survivors georges madame walter however locates philippe de cantel last descendant though late challenges georges duel two weeks marriage duel georges professes clotilde two people loves young daughter clotilde goes walters try stop duel two men fatally shoot dies georges regrets happy clotilde'\n",
            "Label(s): ['drama']\n",
            "Predicted Label(s): (drama, romance, historical)\n",
            " \n",
            "Abstract: b'lonesome luke harold lloyd tries sell books businessman wife'\n",
            "Label(s): ['comedy' 'short']\n",
            "Predicted Label(s): (comedy, western, mystery)\n",
            " \n",
            "Abstract: b'nina art dealer weekly massage appointment surprised find usual masseur douglas sent replacement named fitch pair develop easy rapport session talk past relationships nina lies topless massage table fitch also takes time explain various massage techniques including used hopi medicine men'\n",
            "Label(s): ['drama']\n",
            "Predicted Label(s): (comedy, romantic, drama)\n",
            " \n",
            "Abstract: b'film follows dissolution john helens marriage aftermath'\n",
            "Label(s): ['drama']\n",
            "Predicted Label(s): (drama, romance, crime)\n",
            " \n",
            "Abstract: b'krishna bala running police attacking public attempt save mother lathi charged travelling truck meets meera meghna nair truck meets accident stay guest truck owner rajan p dev ninan koshy suresh gopi asked investigate case'\n",
            "Label(s): ['action' 'thriller']\n",
            "Predicted Label(s): (romance, action, family)\n",
            " \n",
            "Abstract: b'boxer action film mould sylvester stallones rocky series'\n",
            "Label(s): ['action' 'crime']\n",
            "Predicted Label(s): (action, drama, crime)\n",
            " \n",
            "Abstract: b'rod blue surfer shoulder length hair sydney australia also stages rock concerts unsuccessfully time needing big idea decides fly los angeles make presentable try persuade frank sinatra come australia sing sinatra takes liking kid overhearing express sinatras music means much everyone lawyer mickey rudin right hand man jilly rizzo assent trip like would good thing point singers career sinatra agrees go airport australia members media ask blunt impolite personal questions soon sinatra companion barbara marx step private jet one prying reporters hilary hunter angrily claims sinatra someone entourage spat went rod new assistant audrey appleby known since youth long crush best make sinatras party comfortable penthouse sydney hotel audrey strikes fast friendship barbara praises sinatra lover doesnt wish rush marriage going melbourne tours first show rod suggests sinatra australian press sensitive criticism singer try avoid subject way usual sinatra proceeds insult woman reporter airport calling nothing two dollar whore restaurant needs way chef insulted barbaras meddling franks food needs prepared trade unions instantly react banding together decide cut services sinatra immediately including food drink maid service hotel newspapers mock singer headlines like frankie go home even problematic inasmuch one willing supply fuel jet either apology demanded best sinatra willing permit rudin try work satisfactory compromise bob hawke trade unions leader australias future prime minister audrey meantime becomes furious finding rod kissing reporter hilary rod gets bloody fistfight sinatras sidekick rizzo refuses release tapes concert rod already pre sold ultimately proposed sinatra benefit concert trades people soon gets back stage rather apologize calling reporter two dollar hooker says overpaid enjoying nevertheless singer calls barbara stage introducing australia girl im going marry'\n",
            "Label(s): ['biographical']\n",
            "Predicted Label(s): (drama, comedy, biography)\n",
            " \n",
            "Abstract: b'dan tough police captain ray hardened criminal estranged brothers ray faces capture kitty sister rays ex partner dan helped convict offers help escape sees opportunity revenge dan notifies police dan rays whereabouts regretting actions late prevent capture avert arrest brother ray commits suicide kitty consoles dan grief come understanding rays body'\n",
            "Label(s): ['drama']\n",
            "Predicted Label(s): (noir, drama, crime)\n",
            " \n",
            "Abstract: b'convenience store robber herbert hi mcdunnough nicolas cage police officer edwina ed holly hunter meet takes mugshots recidivist continued visits hi learns eds fianc left hi proposes latest release prison two get married move desert mobile home hi gets job machine shop want children ed infertile cannot adopt criminal record despite fact ed police officer devastated ed resigns job couple learns arizona quints sons locally famous furniture magnate nathan arizona trey wilson hi ed kidnap one five babies believe nathan junior hi ed return home soon visited cellmates gale evelle snoats john goodman william forsythe escaped prison brothers influence hi tempted return felonious ways problems get worse supervisor glen sam mcmurray proposes wife swapping hi assaults night hi decides steal package diapers baby gets carried away starts rob convenience store ed sees furious drives without hi forced flee foot convenience store chased two police officers two armed cashiers attempt shoot well pack neighborhood dogs manages outrun lose ed eventually picks leading tense ride home mcdunnough residence next day glen approaches hi fire reveals deduced juniors identity newspaper article read junior missing blackmails hi threatening turn police unless glen dot get custody junior gale evelle overhear conversation turn hi tying chair taking junior gale evelle leave plans rob hayseed bank junior tow ed comes home frees hi two arm set together retrieve child en route ed suggests end marriage recovering boy meanwhile nathan arizona sr approached bounty hunter leonard smalls randall tex cobb offers find child nathan sr declines offer believing smalls sons kidnapper smalls decides recover child anyway sell black market begins tracking gale evelle learns bank robbery plans gale evelle rob bank leave junior make getaway one banks anti theft dye canisters explodes loot sack blocking cars windows incapacitating bank smalls arrives junior ahead ed hi ed grabs baby flees hi able fend smalls eventually overwhelmed smalls superior strength armament viciousness smalls throws hi ground prepares kill hi holds hand reveal pulled pin one hand grenades smalls vest smalls attempts get rid grenade cannot get time blown pieces grenade explodes sets weapons hi ed sneak junior back arizona home confronted nathan sr nathan sr learns took son understands couples predicament decides turn police counsels hi ed say splitting advises sleep hi ed go sleep bed hi dream gale evelle reforming returning prison realizing werent ready yet come world glen gets due polish american police officer luck getting listen wild tales hi ed threw one polack joke many nathan jr gets football christmas kindly couple wish remain unknown later becoming football star dream ends elderly couple implied hi ed together enjoying holiday visit large family children grandchildren'\n",
            "Label(s): ['comedy']\n",
            "Predicted Label(s): (comedy, black, action-comedy)\n",
            " \n",
            "Abstract: b'two migrant field workers california great depression george milton burgess meredith intelligent quick witted man despite frequent claims smart lennie small lon chaney jr ironically named man large stature immense strength due mental disability mind young child hope one day attain shared dream settling piece land lennies part dream never tires hearing george describe merely tend touch soft rabbits farm george protects lennie beginning telling lennie gets trouble george wont let tend rabbits fleeing previous employment weed run town lennies love stroking soft things resulted accusation attempted rape touched held onto young womans dress shown mentioned bus en route new ranch lennie mental disability prone forget simplest things phrases remember rabbits asks george going george annoyed tells work cards got bus entrance lennie remember incorrectly remembers pocket since george dropped miles destination george lennie decide camp night salinas river george points lennie river runs river dunks whole head drinking like animal george soon catches lennie petting dead bird takes away throws side river safety reasons lennie hears going beans dinner requests ketchup george responds night george lennie eating beans dinner lennie requests thing george responding angrily stating whatever lennie always wants leaves lennie puzzled forgot first response earlier also causes george long speech lennies ungratefulness childlike behavior escape weed eventually george eases tensions telling lennie favorite story future farm going sleep next day arrive ranch near soledad meet candy roman bohnen aged one handed ranch hand ageing dog raised since puppy meeting ranch boss jackson oscar oshea pair confronted curley small statured jealous violent son ranch owner threatens beat lennie pulp height curley hates men large stature make matters worse curleys seductive yet sadistic conniving wife mae betty field lennie instantly attracted flirts ranch hands george orders lennie look even talk senses troubles mae could bring men one night mae enters barn attempt talk slim charles bickford even mae explains life depression slim refuses listen shuns saying got troubles except bring tells go back house statement causes mae sob slim forced give let talk back bunkhouse candy offers join george lennie carlson puts dog buy farm dream appears move closer reality curley appears makes scene bunkhouse workers mock accused slim keeping company wife george lennies dream shadowed curley catches lennie laughing grabs bunk starts punching face repeatedly instead fighting back lennie asks help george tells fight back upon hearing george say lennie catches curleys hand crushes letting go finds slim gives curley ultimatum tell anyone exactly happened curley tell father retribution get lennie george fired slim tell everyone happened curley told reason say got hand caught piece machinery saturday night everyone except lennie candy crooks leigh whipper race town enjoying crooks asks lennie stay room lennie explains farm george candy going forgetting promise george tell anyone candy gets conversation george comes back first sees lennie smoking cigar takes away guessing lennie done moment mae enters bunkhouse trying ask crooks crushed curleys hand crooks refuses respond mae callously calls four bindlestiffs attempt belittle candy responds proof going future mae refuses accept american dream calling old goat mae tries get crooks explain happened curleys hand despite fact present george mentions nobody briefly leading mae believe george one crushed hand george tries explain going future mae keeps constantly flirting going cause dream crash callous mae refuses listen looking person crushed husbands hand sees lennies bloodied bruised face finds one responsible mae tries kind lennie thank george grabs shoulder berates tells return house mae refuses saying right talk flirt whomever comes across jackson happened standing crooks door catches george hand raised intention slap mae across face arrogance negligence holding horsewhip hand jackson silently dissuades let mae go back house unharmed next morning mae confronts curley repeats statement slim gave earlier mae knows truth taunts calling punk crippled hand curley tells marriage going kicked ranch due carnal behavior ranch hands continues laugh hysterically starts weep realizing done leave mae enters barn pet slims puppies spots lennie sobbing killed puppy stroking hard lennie tries leave knowing talking mae ordered george stops leaving forces talk mae explains lennie wanted curley shattered dream lennie tells mae loves stroke soft things mae allows stroke hair telling muss mae starts resist scream lennie strokes hair hard however lennie tries silence mae accidentally kills breaking neck unintentionally puts end american dream candy george find maes body tell others including curley grows infuriated result lynch mob gathers kill lennie however george slim go alone find lennie george tells slim carlsons luger candy see maes dead body george slim separate go find lennie george finds first realizing doomed life loneliness despair like rest migrant workers wants spare lennie painful death hands furious cold hearted curley giving lennie one last retelling dream buying land george shoots lennie back head carlsons luger mob find mob arrives late slim realizes george done hands luger local police officer leave river'\n",
            "Label(s): ['drama']\n",
            "Predicted Label(s): (drama, comedy, science)\n",
            " \n",
            "Abstract: b'december chuck noland time obsessed systems engineer travels worldwide resolving productivity problems fedex depots long term relationship kelly frears lives memphis tennessee although couple wants get married chucks busy schedule interferes relationship christmas relatives interrupted chuck summoned resolve problem malaysia flying violent storm plane crashes pacific ocean chuck escapes sinking plane saved inflatable life raft loses emergency locator transmitter clings life raft loses consciousness floats night washing island awakens explores island soon discovers uninhabited several fedex packages crashed plane also wash shore well corpse one pilots buries initially tries signal rescue makes escape attempt remnants life raft cannot pass powerful surf coral reefs surrounding island searches food water shelter opens packages finding number useful items leaves one package pair angel wings stenciled unopened first attempt make fire chuck receives deep wound hand anger pain throws several objects including wilson volleyball one packages short time later draws face bloody hand print ball names wilson begins talking one night chuck calculates order rescue workers find site plane crash search area twice size texas making doubtful ever found four years later chuck adapted island meager living conditions become adept spearing fish making fires also regular conversations arguments wilson means socialization large section portable toilet washes island chuck uses sail construction raft spending time building stocking raft deciding weather conditions optimal using analemma created cave monitor time year launches using sail overcome powerful surf time ocean storm nearly tears raft apart following day chuck sleeps wilson becomes untethered floats away raft chuck wakened spray sounding whale sees wilson swims wilson gone far safely retrieve chuck returns raft collapses tears later passing cargo ship finds drifting upon returning civilization chuck learns long given dead family acquaintances held funeral kelly since married chucks onetime dentist daughter reuniting pair profess love realizing cannot together commitment new family sadly part kelly gives chuck car shared time later buying new volleyball chuck travels canadian texas return unopened fedex package angel wings sender woman named bettina peterson one home leaves package door note saying package saved life departs stops remote crossroads friendly woman passing pickup truck stops explain road leads drives away chuck notices angel wings back truck identical parcel chuck left standing crossroads looks road smiles faintly looks direction womans truck'\n",
            "Label(s): ['adventure']\n",
            "Predicted Label(s): (drama, science, fiction)\n",
            " \n",
            "Abstract: b'clairvoyant marina awaits signs beyond true love whoever may waiting somewhere new york butcher leo lemke shows tiny north carolina island ocracoke marina lives convinced man predestined husband wedding marina moves leos blue collar neighborhood successfully commiserates eccentrics withdrawn teenager eugene frustrated singer stella keefover unlucky love actress robyn graves analytical psychiatrist dr alex tremor closeted lesbian dress shop clerk grace marina fails grasp powers see future strangers far clearly love unpredictable matter many ways look film makes use several phenomena described occult portents meeting love match imminent occult tools help strengthen seal bring love luck happiness include sudden finding ring would serve wedding band falling stars twin tails zig zagged rainbows found objects symbolizing change finders path cause cross beloved also popularizes character alex tremor calls corruption section platos symposium regarding soul mates referred movie split aparts one scene dr tremor notes aspect marinas visions marina says women burned less reference witch persecutions europe america th th centuries famous salem witch trials although witches burned salem hysteria lastly also references common use bastardizations voodoo practices mojo bags gris gris use chickens toads'\n",
            "Label(s): ['comedy']\n",
            "Predicted Label(s): (drama, horror, comedy)\n",
            " \n",
            "Abstract: b'dying industrial tycoon john glidden richard bennett cannot decide wealth despises money hungry relatives believes none employees capable running various companies finally decides give million dollars eight people picked random telephone directory passes away avoid contested first name selected john rockefeller swiftly rejected henry peabody charles ruggles unhappy work home bookkeeper promoted salesman china shop henry keeps breaking merchandise meaning raise results bringing home less money something nagging wife mary boland quick notice glidden gives certified check henry shows late work proceeds gleefully wreak destruction wares barroom prostitute violet smith wynne gibson checks expensive hotel suite find goes bed alone eddie jackson george raft narrowly avoids arrest trying cash forged check prior record caught mean life sentence prison glidden presents check eddie delighted first however dare show face bank none criminal associates believes check genuine frantic leave town desperately needing sleep penniless man gives check security cent bed flophouse manager secretly calls police take away thinks lunatic uses check light cigar ex vaudeville performer emily la rue alison skipworth content life running tea room help partner ex juggler rollo w c fields one thing lacking make satisfaction complete delivered day brand new car however take drive wrecked another driver ignores stop signal heartbroken woman returns tea room glidden finds comes inventive way spend part great windfall rollo purchase eight used cars hire drivers take road long procession encounter inconsiderate road hog emily rollo immediately set pursuit crash offenders automobile switch one spare cars repeat process run automobiles end day emily purchases another new car destroyed collision truck matter emily tells rollo glorious day sequence probably wiritten joe mankiewicz since contains reference hometown wilkes barre pa prisoner john wallace gene raymond condemned electric chair killing someone robbery tearful conversation wife mary frances dee visited cell glidden john certain new found wealth save late executed day despite protests clerk phineas v lambert charles laughton receives check mail shows little emotion merely leaves desk calmly climbs stairs office first secretary president company office private secretary finally knocks door president admitted phineas blows raspberry former boss leaves glidden finds u marine steve gallagher gary cooper good buddies mulligan jack oakie obrien roscoe karns stockade striking sergeant however glidden gives gallagher check gallagher notices april fools day assumes joke three men released immediately head nearby lunch stand see marie joyce compton pretty waitress want take carnival none money gallagher remembers check zeb stands owner illiterate tells zeb check gets zeb cash marie head carnival gallagher cannot shake pals mulligan becomes embroiled fight comrades join trio end right back stockade bars watch dumbfounded fancily dressed zeb steps limousine escorting equally well garbed marie last beneficiary mary walker may robson one many unhappy elderly women consigned rest home run mrs garvey uncredited blanche friderici mrs garvey petty tyrant enforces rules rigorously displeasure charges especially spirited defiant mary mary uses money turn tables pays mrs garvey rest staff sit rocking chairs residents wonderful time partying dancing gentleman friends marys spirit even reinvigorates john glidden glidden ignores doctor looks forward spending time mary'\n",
            "Label(s): ['drama' 'comedy']\n",
            "Predicted Label(s): (comedy, romance, black)\n",
            " \n"
          ]
        }
      ]
    }
  ]
}